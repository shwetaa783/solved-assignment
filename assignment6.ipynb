{
 "cells": [
  {
   "cell_type": "code",
   "execution_count": 1,
   "id": "5e87f595-cf15-4295-a55b-aadd9f40b388",
   "metadata": {},
   "outputs": [],
   "source": [
    "#explain the significance of python keywords and provide example of five keywords."
   ]
  },
  {
   "cell_type": "code",
   "execution_count": 4,
   "id": "71219ae1-0726-4da8-889a-f46cf52fc4b8",
   "metadata": {},
   "outputs": [],
   "source": [
    "#Akeywords does not use of special characters.Excepted for underscore(' ')no other special characters can be used in a python identifier.ex-True,False,if else,elif etc"
   ]
  },
  {
   "cell_type": "code",
   "execution_count": 5,
   "id": "ee5c426a-06ff-46bd-ada9-3ec1a8960997",
   "metadata": {},
   "outputs": [],
   "source": [
    "#describe the rules for defining identifiers in python and provide an example."
   ]
  },
  {
   "cell_type": "code",
   "execution_count": 6,
   "id": "6e8a2252-4e50-458b-9216-845182d44f47",
   "metadata": {},
   "outputs": [],
   "source": [
    "#identifiers are the name given to variables,clases,methods etc.ex-language='python'"
   ]
  },
  {
   "cell_type": "code",
   "execution_count": 7,
   "id": "8c8d9362-f725-49f2-b7ee-d5c0a2a9c99b",
   "metadata": {},
   "outputs": [],
   "source": [
    "#what are comments in python,and why are they useful?provide an esample."
   ]
  },
  {
   "cell_type": "code",
   "execution_count": 8,
   "id": "147b3342-a0f8-4cc6-88eb-1b99b844382c",
   "metadata": {},
   "outputs": [],
   "source": [
    "#comments in python is the inclusion of short descriptions along with the code to increase the readability.print('hallo world')"
   ]
  },
  {
   "cell_type": "code",
   "execution_count": 9,
   "id": "57aa14b9-a4e6-465a-bb13-211b3f18ecec",
   "metadata": {},
   "outputs": [],
   "source": [
    "#why is proper indentation important in python?"
   ]
  },
  {
   "cell_type": "code",
   "execution_count": 10,
   "id": "fc0aa440-947f-434b-9ca4-d0a4d5ef119c",
   "metadata": {},
   "outputs": [],
   "source": [
    "#indentation in python refers to the whitespaces at the start of the line to indicate a block of code."
   ]
  },
  {
   "cell_type": "code",
   "execution_count": 13,
   "id": "d4372232-68de-41fc-9b6c-60253ea9442f",
   "metadata": {},
   "outputs": [
    {
     "name": "stdout",
     "output_type": "stream",
     "text": [
      "the greatest no\n"
     ]
    }
   ],
   "source": [
    "a=10\n",
    "if a>1:\n",
    "    print('the greatest no')\n",
    "else:\n",
    "    print('the smallest no')"
   ]
  },
  {
   "cell_type": "code",
   "execution_count": 14,
   "id": "3a3c1917-0b7c-4cba-b823-6f8481490cf8",
   "metadata": {},
   "outputs": [],
   "source": [
    "#what happens if indentation is incorrect in python?"
   ]
  },
  {
   "cell_type": "code",
   "execution_count": 15,
   "id": "a97439fd-8d0d-4b18-a3e7-38f1a5d2a982",
   "metadata": {},
   "outputs": [],
   "source": [
    "#the overall code will not run and show the error."
   ]
  },
  {
   "cell_type": "code",
   "execution_count": 16,
   "id": "6b68904c-bdde-4899-8a12-31be78452472",
   "metadata": {},
   "outputs": [],
   "source": [
    "#differentiate between expression and statement in python with examples."
   ]
  },
  {
   "cell_type": "code",
   "execution_count": null,
   "id": "c72468ec-d091-46eb-b1f5-a2a8b7899c58",
   "metadata": {},
   "outputs": [],
   "source": [
    "#"
   ]
  }
 ],
 "metadata": {
  "kernelspec": {
   "display_name": "Python 3 (ipykernel)",
   "language": "python",
   "name": "python3"
  },
  "language_info": {
   "codemirror_mode": {
    "name": "ipython",
    "version": 3
   },
   "file_extension": ".py",
   "mimetype": "text/x-python",
   "name": "python",
   "nbconvert_exporter": "python",
   "pygments_lexer": "ipython3",
   "version": "3.10.8"
  }
 },
 "nbformat": 4,
 "nbformat_minor": 5
}
